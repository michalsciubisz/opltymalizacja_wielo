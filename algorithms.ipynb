{
 "cells": [
  {
   "cell_type": "markdown",
   "metadata": {},
   "source": [
    "## Optymalizacja wielokryterialna dyskretna - 21.10.2024 </br>\n",
    "\n",
    "Michał Ściubisz - 406285 </br>\n",
    "Wojciech Tokarz - 407478"
   ]
  },
  {
   "cell_type": "markdown",
   "metadata": {},
   "source": [
    "### Algorytm bez filtracji"
   ]
  },
  {
   "cell_type": "code",
   "execution_count": 22,
   "metadata": {},
   "outputs": [],
   "source": [
    "def algorytm_bez_filtracji(X):\n",
    "    P = []\n",
    "    i = 0\n",
    "    while i < len(X):\n",
    "        Y = X[i]\n",
    "        fl = 0\n",
    "        j = i + 1\n",
    "        while j < len(X):\n",
    "            if Y[0] <= X[j][0] and Y[1] <= X[j][1]:\n",
    "                X.pop(j)\n",
    "            elif X[j][0] <= Y[0] and X[j][1] <= Y[1]:\n",
    "                X.pop(i)\n",
    "                fl = 1\n",
    "                break\n",
    "            else:\n",
    "                j += 1\n",
    "        \n",
    "        if fl == 0:\n",
    "            P.append(Y)\n",
    "            i += 1\n",
    "        else:\n",
    "            fl = 0\n",
    "\n",
    "    return P"
   ]
  },
  {
   "cell_type": "markdown",
   "metadata": {},
   "source": [
    "### Algorytm z filtracją"
   ]
  },
  {
   "cell_type": "code",
   "execution_count": 23,
   "metadata": {},
   "outputs": [],
   "source": [
    "def dominuje(A, B):\n",
    "    # Punkt A dominuje nad punktem B, jeśli każda współrzędna A jest <= każdej współrzędnej B\n",
    "    # i przynajmniej jedna współrzędna A jest mniejsza niż odpowiadająca współrzędna B.\n",
    "    czy_mniejszy = False  # Sprawdzenie, czy istnieje współrzędna mniejsza\n",
    "\n",
    "    for a, b in zip(A, B):\n",
    "        if a > b:\n",
    "            return False  # Jeśli którakolwiek współrzędna A jest większa, A nie dominuje B\n",
    "        if a < b:\n",
    "            czy_mniejszy = True  # Znaleziono przynajmniej jedną współrzędną mniejszą\n",
    "\n",
    "    return czy_mniejszy\n",
    "\n",
    "\n",
    "def filtracja_zdominowanych(X):\n",
    "    n = len(X)\n",
    "\n",
    "    # Tworzymy tablicę, która śledzi, czy dany punkt jest pomijany (usunięty)\n",
    "    usuniety = [False] * n  # Na początku żaden element nie jest usunięty\n",
    "\n",
    "    P = []  # Lista punktów niezdominowanych\n",
    "\n",
    "    for i in range(n):\n",
    "        if usuniety[i]:\n",
    "            continue  # Jeśli punkt X[i] został już usunięty, pomijamy go\n",
    "\n",
    "        Y = X[i]  # Bierzemy aktualny punkt Y\n",
    "\n",
    "        # Przeglądamy wszystkie punkty po punkcie Y\n",
    "        for j in range(i + 1, n):\n",
    "            if usuniety[j]:\n",
    "                continue  # Pomijamy punkt, jeśli już został oznaczony jako usunięty\n",
    "\n",
    "            if dominuje(Y, X[j]):\n",
    "                # Jeśli Y dominuje nad X[j], oznaczamy X[j] jako usunięty\n",
    "                usuniety[j] = True\n",
    "            elif dominuje(X[j], Y):\n",
    "                # Jeśli X[j] dominuje nad Y, oznaczamy Y jako usunięty\n",
    "                usuniety[i] = True\n",
    "                Y = X[j]  # Zmieniamy Y na X[j]\n",
    "\n",
    "        # Dodajemy Y do listy punktów niezdominowanych, jeśli nie został usunięty\n",
    "        if not usuniety[i]:\n",
    "            P.append(Y)\n",
    "\n",
    "        # Filtracja: oznaczamy jako usunięte wszystkie X[k], takie że Y ≤ X[k]\n",
    "        for k in range(i + 1, n):\n",
    "            if not usuniety[k] and dominuje(Y, X[k]):\n",
    "                usuniety[k] = True\n",
    "\n",
    "    return P"
   ]
  },
  {
   "cell_type": "markdown",
   "metadata": {},
   "source": [
    "### Algorytm opary o punkt idealny"
   ]
  },
  {
   "cell_type": "code",
   "execution_count": 24,
   "metadata": {},
   "outputs": [],
   "source": [
    "def odleglosc_kwadratowa(A, B):\n",
    "    return sum((a - b) ** 2 for a, b in zip(A, B))\n",
    "\n",
    "def algorytm_punkt_idealny(X):\n",
    "    n = len(X)\n",
    "    k = len(X[0])\n",
    "    P = []\n",
    "    xmin = [min(X[i][j] for i in range(n)) for j in range(k)]\n",
    "    d = [odleglosc_kwadratowa(xmin, X[j]) for j in range(n)]\n",
    "    J = sorted(range(n), key=lambda j: d[j])\n",
    "\n",
    "    M = n\n",
    "    m = 0\n",
    "\n",
    "    usuniety = [False] * n\n",
    "    while m < M:\n",
    "        aktualny_punkt = X[J[m]]\n",
    "\n",
    "        if not usuniety[J[m]]:\n",
    "            for i in range(n):\n",
    "                if not usuniety[i] and dominuje(aktualny_punkt, X[i]):\n",
    "                    usuniety[i] = True\n",
    "            P.append(aktualny_punkt)\n",
    "            usuniety[J[m]] = True\n",
    "        m += 1\n",
    "\n",
    "    return P"
   ]
  },
  {
   "cell_type": "markdown",
   "metadata": {},
   "source": [
    "### Przykład z zajęć"
   ]
  },
  {
   "cell_type": "code",
   "execution_count": 25,
   "metadata": {},
   "outputs": [],
   "source": [
    "X_example = [(5,5), (3,6), (4,4), (5,3), (3,3), (1,8), (3,4), (4,5), (3,10), (6,6), (4,1), (3,5)]"
   ]
  },
  {
   "cell_type": "markdown",
   "metadata": {},
   "source": [
    "#### Algorytm bez filtracji - rozwiązanie"
   ]
  },
  {
   "cell_type": "code",
   "execution_count": 26,
   "metadata": {},
   "outputs": [
    {
     "name": "stdout",
     "output_type": "stream",
     "text": [
      "[(3, 3), (1, 8), (4, 1)]\n"
     ]
    }
   ],
   "source": [
    "P_result_bez_filtracji = algorytm_bez_filtracji(X_example)\n",
    "print(P_result_bez_filtracji)"
   ]
  },
  {
   "cell_type": "markdown",
   "metadata": {},
   "source": [
    "#### Algorytm z filtracją - rozwiązanie"
   ]
  },
  {
   "cell_type": "code",
   "execution_count": 27,
   "metadata": {},
   "outputs": [
    {
     "name": "stdout",
     "output_type": "stream",
     "text": [
      "[(3, 3), (1, 8), (4, 1)]\n"
     ]
    }
   ],
   "source": [
    "P_result_filtracja = filtracja_zdominowanych(X_example)\n",
    "print(P_result_filtracja)"
   ]
  },
  {
   "cell_type": "markdown",
   "metadata": {},
   "source": [
    "#### Algorytm oparty o punkt idealny - rozwiązanie"
   ]
  },
  {
   "cell_type": "code",
   "execution_count": 28,
   "metadata": {},
   "outputs": [
    {
     "name": "stdout",
     "output_type": "stream",
     "text": [
      "[(3, 3), (4, 1), (1, 8)]\n"
     ]
    }
   ],
   "source": [
    "P_result_idealny = algorytm_punkt_idealny(X_example)\n",
    "print(P_result_idealny)"
   ]
  }
 ],
 "metadata": {
  "kernelspec": {
   "display_name": "Python 3",
   "language": "python",
   "name": "python3"
  },
  "language_info": {
   "codemirror_mode": {
    "name": "ipython",
    "version": 3
   },
   "file_extension": ".py",
   "mimetype": "text/x-python",
   "name": "python",
   "nbconvert_exporter": "python",
   "pygments_lexer": "ipython3",
   "version": "3.12.7"
  }
 },
 "nbformat": 4,
 "nbformat_minor": 2
}
